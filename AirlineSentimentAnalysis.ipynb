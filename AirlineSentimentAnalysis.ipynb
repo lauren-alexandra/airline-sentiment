{
 "cells": [
  {
   "cell_type": "markdown",
   "metadata": {
    "id": "r5sPPLaK3C5Y"
   },
   "source": [
    "# Airline Sentiment Analysis\n",
    "\n",
    "A sentiment analysis about the problems of each major U.S. airline. Twitter data was scraped from\n",
    "February of 2015 and contributors were asked to first classify positive, negative, and neutral tweets, followed\n",
    "by categorizing negative reasons (such as \"late flight\" or \"rude service\")."
   ]
  },
  {
   "cell_type": "markdown",
   "metadata": {
    "id": "XNeQfvny59ab"
   },
   "source": [
    "# Data:\n",
    "- **Tweets.csv:**\n",
    "    - tweet_id\n",
    "    - airline_sentiment\n",
    "    - airline_sentiment_confidence\n",
    "    - negativereason\n",
    "    - negativereason_confidence\n",
    "    - airline\n",
    "    - airline_sentiment_gold\n",
    "    - name\n",
    "    - negativereason_gold\n",
    "    - retweet_count\n",
    "    - text\n",
    "    - tweet_coord\n",
    "    - tweet_created\n",
    "    - tweet_location\n",
    "    - user_timezone"
   ]
  },
  {
   "cell_type": "markdown",
   "metadata": {
    "id": "JypEkPw46gMl"
   },
   "source": [
    "## Data Summary\n"
   ]
  },
  {
   "cell_type": "code",
   "execution_count": null,
   "metadata": {},
   "outputs": [],
   "source": []
  },
  {
   "cell_type": "markdown",
   "metadata": {
    "id": "-AIMO4aC7ddj"
   },
   "source": [
    "## Data Columns\n"
   ]
  },
  {
   "cell_type": "code",
   "execution_count": null,
   "metadata": {},
   "outputs": [],
   "source": []
  },
  {
   "cell_type": "markdown",
   "metadata": {
    "id": "LLDpzrxz7p6o"
   },
   "source": [
    "## Data Pre-Processing\n"
   ]
  },
  {
   "cell_type": "code",
   "execution_count": null,
   "metadata": {},
   "outputs": [],
   "source": []
  },
  {
   "cell_type": "markdown",
   "metadata": {
    "id": "IgBhL6g57-14"
   },
   "source": [
    "## Vectorization\n"
   ]
  },
  {
   "cell_type": "code",
   "execution_count": null,
   "metadata": {},
   "outputs": [],
   "source": []
  },
  {
   "cell_type": "markdown",
   "metadata": {
    "id": "pw9rbFhs8IYm"
   },
   "source": [
    "## Modelling and Evaluation"
   ]
  },
  {
   "cell_type": "code",
   "execution_count": null,
   "metadata": {},
   "outputs": [],
   "source": []
  },
  {
   "cell_type": "markdown",
   "metadata": {
    "id": "_cpfbjYf8ONI"
   },
   "source": [
    "## Conclusion"
   ]
  },
  {
   "cell_type": "code",
   "execution_count": null,
   "metadata": {},
   "outputs": [],
   "source": []
  }
 ],
 "metadata": {
  "accelerator": "GPU",
  "colab": {
   "collapsed_sections": [],
   "name": "PlantSpeciesClassifier.ipynb",
   "provenance": []
  },
  "kernelspec": {
   "display_name": "Python 3",
   "language": "python",
   "name": "python3"
  },
  "language_info": {
   "codemirror_mode": {
    "name": "ipython",
    "version": 3
   },
   "file_extension": ".py",
   "mimetype": "text/x-python",
   "name": "python",
   "nbconvert_exporter": "python",
   "pygments_lexer": "ipython3",
   "version": "3.8.5"
  }
 },
 "nbformat": 4,
 "nbformat_minor": 1
}
